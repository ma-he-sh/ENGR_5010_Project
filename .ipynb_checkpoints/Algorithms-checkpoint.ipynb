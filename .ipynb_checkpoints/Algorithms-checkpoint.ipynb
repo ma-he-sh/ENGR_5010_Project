{
 "cells": [
  {
   "cell_type": "code",
   "execution_count": 1,
   "metadata": {},
   "outputs": [],
   "source": [
    "numCities = 10"
   ]
  },
  {
   "cell_type": "markdown",
   "metadata": {},
   "source": [
    "## Get set number of random cities in Ontario"
   ]
  },
  {
   "cell_type": "code",
   "execution_count": 2,
   "metadata": {},
   "outputs": [
    {
     "name": "stdout",
     "output_type": "stream",
     "text": [
      "10\n"
     ]
    }
   ],
   "source": [
    "from functions.funct import getCityList, getDistanceBetweenTwoCities, getDistance\n",
    "import random\n",
    "import pandas as pd\n",
    "\n",
    "dataList, cityList = getCityList('Ontario')\n",
    "randomCitySample   = random.sample( dataList, numCities )\n",
    "print( len(randomCitySample) )"
   ]
  },
  {
   "cell_type": "code",
   "execution_count": 6,
   "metadata": {},
   "outputs": [
    {
     "ename": "NameError",
     "evalue": "name 'getDistance' is not defined",
     "output_type": "error",
     "traceback": [
      "\u001b[0;31m---------------------------------------------------------------------------\u001b[0m",
      "\u001b[0;31mNameError\u001b[0m                                 Traceback (most recent call last)",
      "\u001b[0;32m<ipython-input-6-e9d08448ca89>\u001b[0m in \u001b[0;36m<module>\u001b[0;34m\u001b[0m\n\u001b[0;32m----> 1\u001b[0;31m \u001b[0mdistance\u001b[0m \u001b[0;34m=\u001b[0m \u001b[0mgetDistance\u001b[0m\u001b[0;34m(\u001b[0m \u001b[0;34m'Oshawa, Ontario'\u001b[0m\u001b[0;34m,\u001b[0m \u001b[0;34m'Toronto, Ontario'\u001b[0m \u001b[0;34m)\u001b[0m\u001b[0;34m\u001b[0m\u001b[0;34m\u001b[0m\u001b[0m\n\u001b[0m\u001b[1;32m      2\u001b[0m \u001b[0mprint\u001b[0m\u001b[0;34m(\u001b[0m\u001b[0mdistance\u001b[0m\u001b[0;34m)\u001b[0m\u001b[0;34m\u001b[0m\u001b[0;34m\u001b[0m\u001b[0m\n",
      "\u001b[0;31mNameError\u001b[0m: name 'getDistance' is not defined"
     ]
    }
   ],
   "source": [
    "distance = getDistance( 'Oshawa, Ontario', 'Toronto, Ontario' )\n",
    "print(distance)"
   ]
  },
  {
   "cell_type": "code",
   "execution_count": 3,
   "metadata": {},
   "outputs": [
    {
     "name": "stdout",
     "output_type": "stream",
     "text": [
      "{'destination_addresses': ['Keewatin, Kenora, ON P0V, Canada'], 'origin_addresses': [\"Barry's Bay, ON, Canada\"], 'rows': [{'elements': [{'distance': {'text': '1,853 km', 'value': 1853063}, 'duration': {'text': '19 hours 51 mins', 'value': 71438}, 'status': 'OK'}]}], 'status': 'OK'}\n",
      "{'destination_addresses': ['Markdale, ON N0C 1H0, Canada'], 'origin_addresses': [\"Barry's Bay, ON, Canada\"], 'rows': [{'elements': [{'distance': {'text': '359 km', 'value': 359206}, 'duration': {'text': '4 hours 13 mins', 'value': 15180}, 'status': 'OK'}]}], 'status': 'OK'}\n",
      "{'destination_addresses': ['Cold Springs, ON K9A 4J9, Canada'], 'origin_addresses': [\"Barry's Bay, ON, Canada\"], 'rows': [{'elements': [{'distance': {'text': '219 km', 'value': 218855}, 'duration': {'text': '2 hours 39 mins', 'value': 9535}, 'status': 'OK'}]}], 'status': 'OK'}\n",
      "{'destination_addresses': ['Ontario, Canada'], 'origin_addresses': [\"Barry's Bay, ON, Canada\"], 'rows': [{'elements': [{'status': 'ZERO_RESULTS'}]}], 'status': 'OK'}\n",
      "{'destination_addresses': ['6493 ON-21, Southampton, ON N0H 2L0, Canada'], 'origin_addresses': [\"Barry's Bay, ON, Canada\"], 'rows': [{'elements': [{'distance': {'text': '423 km', 'value': 423280}, 'duration': {'text': '5 hours 5 mins', 'value': 18317}, 'status': 'OK'}]}], 'status': 'OK'}\n",
      "{'destination_addresses': ['East Zorra-Tavistock, ON, Canada'], 'origin_addresses': [\"Barry's Bay, ON, Canada\"], 'rows': [{'elements': [{'distance': {'text': '435 km', 'value': 435058}, 'duration': {'text': '4 hours 32 mins', 'value': 16317}, 'status': 'OK'}]}], 'status': 'OK'}\n",
      "{'destination_addresses': ['East Gwillimbury, ON, Canada'], 'origin_addresses': [\"Barry's Bay, ON, Canada\"], 'rows': [{'elements': [{'distance': {'text': '266 km', 'value': 266376}, 'duration': {'text': '3 hours 19 mins', 'value': 11963}, 'status': 'OK'}]}], 'status': 'OK'}\n",
      "{'destination_addresses': ['Denbigh, ON K0H 1L0, Canada'], 'origin_addresses': [\"Barry's Bay, ON, Canada\"], 'rows': [{'elements': [{'distance': {'text': '60.2 km', 'value': 60240}, 'duration': {'text': '45 mins', 'value': 2690}, 'status': 'OK'}]}], 'status': 'OK'}\n",
      "{'destination_addresses': ['Plattsville, ON N0J 1B0, Canada'], 'origin_addresses': [\"Barry's Bay, ON, Canada\"], 'rows': [{'elements': [{'distance': {'text': '413 km', 'value': 412763}, 'duration': {'text': '4 hours 20 mins', 'value': 15579}, 'status': 'OK'}]}], 'status': 'OK'}\n",
      "{'destination_addresses': ['Markdale, ON N0C 1H0, Canada'], 'origin_addresses': ['Keewatin, Kenora, ON P0V, Canada'], 'rows': [{'elements': [{'distance': {'text': '1,827 km', 'value': 1826999}, 'duration': {'text': '19 hours 37 mins', 'value': 70597}, 'status': 'OK'}]}], 'status': 'OK'}\n",
      "{'destination_addresses': ['Cold Springs, ON K9A 4J9, Canada'], 'origin_addresses': ['Keewatin, Kenora, ON P0V, Canada'], 'rows': [{'elements': [{'distance': {'text': '1,950 km', 'value': 1950293}, 'duration': {'text': '20 hours 27 mins', 'value': 73594}, 'status': 'OK'}]}], 'status': 'OK'}\n",
      "{'destination_addresses': ['Ontario, Canada'], 'origin_addresses': ['Keewatin, Kenora, ON P0V, Canada'], 'rows': [{'elements': [{'status': 'ZERO_RESULTS'}]}], 'status': 'OK'}\n",
      "{'destination_addresses': ['6493 ON-21, Southampton, ON N0H 2L0, Canada'], 'origin_addresses': ['Keewatin, Kenora, ON P0V, Canada'], 'rows': [{'elements': [{'distance': {'text': '1,850 km', 'value': 1850216}, 'duration': {'text': '19 hours 37 mins', 'value': 70639}, 'status': 'OK'}]}], 'status': 'OK'}\n",
      "{'destination_addresses': ['East Zorra-Tavistock, ON, Canada'], 'origin_addresses': ['Keewatin, Kenora, ON P0V, Canada'], 'rows': [{'elements': [{'distance': {'text': '1,772 km', 'value': 1771915}, 'duration': {'text': '18 hours 32 mins', 'value': 66705}, 'status': 'OK'}]}], 'status': 'OK'}\n",
      "{'destination_addresses': ['East Gwillimbury, ON, Canada'], 'origin_addresses': ['Keewatin, Kenora, ON P0V, Canada'], 'rows': [{'elements': [{'distance': {'text': '1,810 km', 'value': 1810488}, 'duration': {'text': '19 hours 17 mins', 'value': 69446}, 'status': 'OK'}]}], 'status': 'OK'}\n",
      "{'destination_addresses': ['Denbigh, ON K0H 1L0, Canada'], 'origin_addresses': ['Keewatin, Kenora, ON P0V, Canada'], 'rows': [{'elements': [{'distance': {'text': '1,875 km', 'value': 1875456}, 'duration': {'text': '20 hours 12 mins', 'value': 72698}, 'status': 'OK'}]}], 'status': 'OK'}\n",
      "{'destination_addresses': ['Plattsville, ON N0J 1B0, Canada'], 'origin_addresses': ['Keewatin, Kenora, ON P0V, Canada'], 'rows': [{'elements': [{'distance': {'text': '1,810 km', 'value': 1810035}, 'duration': {'text': '18 hours 39 mins', 'value': 67157}, 'status': 'OK'}]}], 'status': 'OK'}\n",
      "{'destination_addresses': ['Cold Springs, ON K9A 4J9, Canada'], 'origin_addresses': ['Markdale, ON N0C 1H0, Canada'], 'rows': [{'elements': [{'distance': {'text': '258 km', 'value': 258141}, 'duration': {'text': '2 hours 47 mins', 'value': 9997}, 'status': 'OK'}]}], 'status': 'OK'}\n",
      "{'destination_addresses': ['Ontario, Canada'], 'origin_addresses': ['Markdale, ON N0C 1H0, Canada'], 'rows': [{'elements': [{'status': 'ZERO_RESULTS'}]}], 'status': 'OK'}\n",
      "{'destination_addresses': ['6493 ON-21, Southampton, ON N0H 2L0, Canada'], 'origin_addresses': ['Markdale, ON N0C 1H0, Canada'], 'rows': [{'elements': [{'distance': {'text': '70.2 km', 'value': 70192}, 'duration': {'text': '52 mins', 'value': 3116}, 'status': 'OK'}]}], 'status': 'OK'}\n",
      "{'destination_addresses': ['East Zorra-Tavistock, ON, Canada'], 'origin_addresses': ['Markdale, ON N0C 1H0, Canada'], 'rows': [{'elements': [{'distance': {'text': '140 km', 'value': 140397}, 'duration': {'text': '1 hour 49 mins', 'value': 6527}, 'status': 'OK'}]}], 'status': 'OK'}\n",
      "{'destination_addresses': ['East Gwillimbury, ON, Canada'], 'origin_addresses': ['Markdale, ON N0C 1H0, Canada'], 'rows': [{'elements': [{'distance': {'text': '129 km', 'value': 129109}, 'duration': {'text': '1 hour 42 mins', 'value': 6091}, 'status': 'OK'}]}], 'status': 'OK'}\n",
      "{'destination_addresses': ['Denbigh, ON K0H 1L0, Canada'], 'origin_addresses': ['Markdale, ON N0C 1H0, Canada'], 'rows': [{'elements': [{'distance': {'text': '335 km', 'value': 334853}, 'duration': {'text': '4 hours 11 mins', 'value': 15030}, 'status': 'OK'}]}], 'status': 'OK'}\n",
      "{'destination_addresses': ['Plattsville, ON N0J 1B0, Canada'], 'origin_addresses': ['Markdale, ON N0C 1H0, Canada'], 'rows': [{'elements': [{'distance': {'text': '140 km', 'value': 140129}, 'duration': {'text': '1 hour 49 mins', 'value': 6558}, 'status': 'OK'}]}], 'status': 'OK'}\n",
      "{'destination_addresses': ['Ontario, Canada'], 'origin_addresses': ['Cold Springs, ON K9A 4J9, Canada'], 'rows': [{'elements': [{'status': 'ZERO_RESULTS'}]}], 'status': 'OK'}\n",
      "{'destination_addresses': ['6493 ON-21, Southampton, ON N0H 2L0, Canada'], 'origin_addresses': ['Cold Springs, ON K9A 4J9, Canada'], 'rows': [{'elements': [{'distance': {'text': '328 km', 'value': 328031}, 'duration': {'text': '3 hours 38 mins', 'value': 13108}, 'status': 'OK'}]}], 'status': 'OK'}\n",
      "{'destination_addresses': ['East Zorra-Tavistock, ON, Canada'], 'origin_addresses': ['Cold Springs, ON K9A 4J9, Canada'], 'rows': [{'elements': [{'distance': {'text': '252 km', 'value': 251652}, 'duration': {'text': '2 hours 26 mins', 'value': 8766}, 'status': 'OK'}]}], 'status': 'OK'}\n",
      "{'destination_addresses': ['East Gwillimbury, ON, Canada'], 'origin_addresses': ['Cold Springs, ON K9A 4J9, Canada'], 'rows': [{'elements': [{'distance': {'text': '136 km', 'value': 135888}, 'duration': {'text': '1 hour 23 mins', 'value': 4966}, 'status': 'OK'}]}], 'status': 'OK'}\n",
      "{'destination_addresses': ['Denbigh, ON K0H 1L0, Canada'], 'origin_addresses': ['Cold Springs, ON K9A 4J9, Canada'], 'rows': [{'elements': [{'distance': {'text': '190 km', 'value': 190255}, 'duration': {'text': '2 hours 18 mins', 'value': 8264}, 'status': 'OK'}]}], 'status': 'OK'}\n",
      "{'destination_addresses': ['Plattsville, ON N0J 1B0, Canada'], 'origin_addresses': ['Cold Springs, ON K9A 4J9, Canada'], 'rows': [{'elements': [{'distance': {'text': '229 km', 'value': 229356}, 'duration': {'text': '2 hours 14 mins', 'value': 8028}, 'status': 'OK'}]}], 'status': 'OK'}\n",
      "{'destination_addresses': ['6493 ON-21, Southampton, ON N0H 2L0, Canada'], 'origin_addresses': ['Ontario, Canada'], 'rows': [{'elements': [{'status': 'ZERO_RESULTS'}]}], 'status': 'OK'}\n"
     ]
    },
    {
     "name": "stdout",
     "output_type": "stream",
     "text": [
      "{'destination_addresses': ['East Zorra-Tavistock, ON, Canada'], 'origin_addresses': ['Ontario, Canada'], 'rows': [{'elements': [{'status': 'ZERO_RESULTS'}]}], 'status': 'OK'}\n",
      "{'destination_addresses': ['East Gwillimbury, ON, Canada'], 'origin_addresses': ['Ontario, Canada'], 'rows': [{'elements': [{'status': 'ZERO_RESULTS'}]}], 'status': 'OK'}\n",
      "{'destination_addresses': ['Denbigh, ON K0H 1L0, Canada'], 'origin_addresses': ['Ontario, Canada'], 'rows': [{'elements': [{'status': 'ZERO_RESULTS'}]}], 'status': 'OK'}\n",
      "{'destination_addresses': ['Plattsville, ON N0J 1B0, Canada'], 'origin_addresses': ['Ontario, Canada'], 'rows': [{'elements': [{'status': 'ZERO_RESULTS'}]}], 'status': 'OK'}\n",
      "{'destination_addresses': ['East Zorra-Tavistock, ON, Canada'], 'origin_addresses': ['6493 ON-21, Southampton, ON N0H 2L0, Canada'], 'rows': [{'elements': [{'distance': {'text': '176 km', 'value': 175631}, 'duration': {'text': '2 hours 11 mins', 'value': 7844}, 'status': 'OK'}]}], 'status': 'OK'}\n",
      "{'destination_addresses': ['East Gwillimbury, ON, Canada'], 'origin_addresses': ['6493 ON-21, Southampton, ON N0H 2L0, Canada'], 'rows': [{'elements': [{'distance': {'text': '199 km', 'value': 199260}, 'duration': {'text': '2 hours 34 mins', 'value': 9221}, 'status': 'OK'}]}], 'status': 'OK'}\n",
      "{'destination_addresses': ['Denbigh, ON K0H 1L0, Canada'], 'origin_addresses': ['6493 ON-21, Southampton, ON N0H 2L0, Canada'], 'rows': [{'elements': [{'distance': {'text': '405 km', 'value': 405003}, 'duration': {'text': '5 hours 3 mins', 'value': 18160}, 'status': 'OK'}]}], 'status': 'OK'}\n",
      "{'destination_addresses': ['Plattsville, ON N0J 1B0, Canada'], 'origin_addresses': ['6493 ON-21, Southampton, ON N0H 2L0, Canada'], 'rows': [{'elements': [{'distance': {'text': '183 km', 'value': 183073}, 'duration': {'text': '2 hours 13 mins', 'value': 7973}, 'status': 'OK'}]}], 'status': 'OK'}\n",
      "{'destination_addresses': ['East Gwillimbury, ON, Canada'], 'origin_addresses': ['East Zorra-Tavistock, ON, Canada'], 'rows': [{'elements': [{'distance': {'text': '181 km', 'value': 180635}, 'duration': {'text': '1 hour 47 mins', 'value': 6391}, 'status': 'OK'}]}], 'status': 'OK'}\n",
      "{'destination_addresses': ['Denbigh, ON K0H 1L0, Canada'], 'origin_addresses': ['East Zorra-Tavistock, ON, Canada'], 'rows': [{'elements': [{'distance': {'text': '427 km', 'value': 426763}, 'duration': {'text': '4 hours 21 mins', 'value': 15667}, 'status': 'OK'}]}], 'status': 'OK'}\n",
      "{'destination_addresses': ['Plattsville, ON N0J 1B0, Canada'], 'origin_addresses': ['East Zorra-Tavistock, ON, Canada'], 'rows': [{'elements': [{'distance': {'text': '17.3 km', 'value': 17322}, 'duration': {'text': '15 mins', 'value': 904}, 'status': 'OK'}]}], 'status': 'OK'}\n",
      "{'destination_addresses': ['Denbigh, ON K0H 1L0, Canada'], 'origin_addresses': ['East Gwillimbury, ON, Canada'], 'rows': [{'elements': [{'distance': {'text': '262 km', 'value': 261823}, 'duration': {'text': '3 hours 11 mins', 'value': 11450}, 'status': 'OK'}]}], 'status': 'OK'}\n",
      "{'destination_addresses': ['Plattsville, ON N0J 1B0, Canada'], 'origin_addresses': ['East Gwillimbury, ON, Canada'], 'rows': [{'elements': [{'distance': {'text': '157 km', 'value': 156756}, 'duration': {'text': '1 hour 31 mins', 'value': 5484}, 'status': 'OK'}]}], 'status': 'OK'}\n",
      "{'destination_addresses': ['Plattsville, ON N0J 1B0, Canada'], 'origin_addresses': ['Denbigh, ON K0H 1L0, Canada'], 'rows': [{'elements': [{'distance': {'text': '404 km', 'value': 403647}, 'duration': {'text': '4 hours 8 mins', 'value': 14852}, 'status': 'OK'}]}], 'status': 'OK'}\n"
     ]
    }
   ],
   "source": [
    "dataMatrix = [[0 for j in range(len( randomCitySample ) + 1)] for i in range(len( randomCitySample ) + 1)]\n",
    "dataMatrix[0][0] = 'x'\n",
    "\n",
    "for i in range( len(randomCitySample) ):\n",
    "    dataMatrix[i+1][0] = randomCitySample[i].get(\"city\")\n",
    "    dataMatrix[0][i+1] = randomCitySample[i].get('city')\n",
    "    \n",
    "seen=set()\n",
    "seenDistance={}\n",
    "for i in range(len(randomCitySample)):\n",
    "    for j in range(len(randomCitySample)):\n",
    "        city1 = randomCitySample[i]\n",
    "        city2 = randomCitySample[j]\n",
    "        \n",
    "        t1 = tuple( [ city1.get('city'), city2.get('city') ] )\n",
    "        t2 = tuple( [ city2.get('city'), city1.get('city') ] )\n",
    "        \n",
    "        if t1 not in seen and t2 not in seen:\n",
    "            if city1.get('city') == city2.get('city'):\n",
    "                distance = 0\n",
    "            else:\n",
    "                distance = getDistanceBetweenTwoCities( city1, city2 )\n",
    "                \n",
    "            seen.add(t1)\n",
    "            seen.add(t2)\n",
    "                \n",
    "            seenDistance[ city1.get('city')+city2.get('city') ] = distance\n",
    "            seenDistance[ city2.get('city')+city1.get('city') ] = distance\n",
    "                \n",
    "            dataMatrix[i + 1][j + 1] = distance\n",
    "        else:\n",
    "            dataMatrix[i + 1][j + 1] = seenDistance[ city1.get('city')+city2.get('city') ]"
   ]
  },
  {
   "cell_type": "code",
   "execution_count": 4,
   "metadata": {},
   "outputs": [],
   "source": [
    "df = pd.DataFrame(dataMatrix)"
   ]
  },
  {
   "cell_type": "code",
   "execution_count": 5,
   "metadata": {},
   "outputs": [
    {
     "name": "stdout",
     "output_type": "stream",
     "text": [
      "                           0            1         2         3             4   \\\n",
      "0                           x  Barry`s Bay  Keewatin  Markdale  Cold Springs   \n",
      "1                 Barry`s Bay            0      None      None          None   \n",
      "2                    Keewatin         None         0      None          None   \n",
      "3                    Markdale         None      None         0          None   \n",
      "4                Cold Springs         None      None      None             0   \n",
      "5   Naiscoutaing First Nation         None      None      None          None   \n",
      "6        Saugeen First Nation         None      None      None          None   \n",
      "7                   Tavistock         None      None      None          None   \n",
      "8            East Gwillimbury         None      None      None          None   \n",
      "9                     Denbigh         None      None      None          None   \n",
      "10                Plattsville         None      None      None          None   \n",
      "\n",
      "                           5                     6          7   \\\n",
      "0   Naiscoutaing First Nation  Saugeen First Nation  Tavistock   \n",
      "1                        None                  None       None   \n",
      "2                        None                  None       None   \n",
      "3                        None                  None       None   \n",
      "4                        None                  None       None   \n",
      "5                           0                  None       None   \n",
      "6                        None                     0       None   \n",
      "7                        None                  None          0   \n",
      "8                        None                  None       None   \n",
      "9                        None                  None       None   \n",
      "10                       None                  None       None   \n",
      "\n",
      "                  8        9            10  \n",
      "0   East Gwillimbury  Denbigh  Plattsville  \n",
      "1               None     None         None  \n",
      "2               None     None         None  \n",
      "3               None     None         None  \n",
      "4               None     None         None  \n",
      "5               None     None         None  \n",
      "6               None     None         None  \n",
      "7               None     None         None  \n",
      "8                  0     None         None  \n",
      "9               None        0         None  \n",
      "10              None     None            0  \n"
     ]
    }
   ],
   "source": [
    "print(df)"
   ]
  },
  {
   "cell_type": "code",
   "execution_count": null,
   "metadata": {},
   "outputs": [],
   "source": []
  },
  {
   "cell_type": "code",
   "execution_count": null,
   "metadata": {},
   "outputs": [],
   "source": []
  }
 ],
 "metadata": {
  "kernelspec": {
   "display_name": "Python 3",
   "language": "python",
   "name": "python3"
  },
  "language_info": {
   "codemirror_mode": {
    "name": "ipython",
    "version": 3
   },
   "file_extension": ".py",
   "mimetype": "text/x-python",
   "name": "python",
   "nbconvert_exporter": "python",
   "pygments_lexer": "ipython3",
   "version": "3.6.9"
  }
 },
 "nbformat": 4,
 "nbformat_minor": 4
}
